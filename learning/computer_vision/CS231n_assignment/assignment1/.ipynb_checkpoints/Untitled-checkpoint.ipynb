{
 "cells": [
  {
   "cell_type": "code",
   "execution_count": 80,
   "metadata": {},
   "outputs": [
    {
     "ename": "SyntaxError",
     "evalue": "invalid syntax (<ipython-input-80-3a57a24404ce>, line 23)",
     "output_type": "error",
     "traceback": [
      "\u001b[1;36m  File \u001b[1;32m\"<ipython-input-80-3a57a24404ce>\"\u001b[1;36m, line \u001b[1;32m23\u001b[0m\n\u001b[1;33m    Y2 = (np.random.uniform(0.5,1.0,n)\u001b[0m\n\u001b[1;37m     ^\u001b[0m\n\u001b[1;31mSyntaxError\u001b[0m\u001b[1;31m:\u001b[0m invalid syntax\n"
     ]
    }
   ],
   "source": [
    "from pylab import *\n",
    "\n",
    "figure(figsize=(10,6),dpi=60)\n",
    "subplot(2,2,1)\n",
    "\n",
    "X=np.linspace(-np.pi,np.pi,256,endpoint=True)\n",
    "C,S = np.cos(X),np.sin(X)\n",
    "\n",
    "plot(X,C,color='blue',linewidth='2.0',linestyle='-',label='cos', alpha=1.0)\n",
    "plot(X,S,color='green',linewidth='1.0',linestyle='-',label='sin')\n",
    "legend(loc='upper left')\n",
    "xlim(-4,4)\n",
    "xticks(np.linspace(-4,4,9,endpoint=True))\n",
    "\n",
    "scatter(0,0,50,color='blue')\n",
    "annotate(\"cosmos\",xy=(0,0),fontsize=16)\n",
    "\n",
    "subplot(2,2,2)\n",
    "\n",
    "n = 12\n",
    "X = np.arange(n)\n",
    "Y1 = np.random.uniform(0.5,1.0,n)\n",
    "Y2 = np.random.uniform(0.5,1.0,n)\n",
    "\n",
    "bar(X, +Y1, facecolor='#9999ff', edgecolor='white')\n",
    "bar(X, -Y2, facecolor='#ff9999', edgecolor='white')\n",
    "\n",
    "subplot(2,2,3)\n",
    "subplot(2,2,4)\n",
    "\n",
    "show()"
   ]
  },
  {
   "cell_type": "code",
   "execution_count": null,
   "metadata": {},
   "outputs": [],
   "source": []
  },
  {
   "cell_type": "code",
   "execution_count": null,
   "metadata": {},
   "outputs": [],
   "source": []
  },
  {
   "cell_type": "code",
   "execution_count": null,
   "metadata": {},
   "outputs": [],
   "source": []
  }
 ],
 "metadata": {
  "kernelspec": {
   "display_name": "Python 3",
   "language": "python",
   "name": "python3"
  },
  "language_info": {
   "codemirror_mode": {
    "name": "ipython",
    "version": 3
   },
   "file_extension": ".py",
   "mimetype": "text/x-python",
   "name": "python",
   "nbconvert_exporter": "python",
   "pygments_lexer": "ipython3",
   "version": "3.6.5"
  }
 },
 "nbformat": 4,
 "nbformat_minor": 2
}
